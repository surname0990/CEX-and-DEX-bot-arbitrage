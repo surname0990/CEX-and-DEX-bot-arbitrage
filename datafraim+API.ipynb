{
  "nbformat": 4,
  "nbformat_minor": 0,
  "metadata": {
    "colab": {
      "provenance": [],
      "authorship_tag": "ABX9TyMIQ551nyh/ZbLZkm/MmDpZ",
      "include_colab_link": true
    },
    "kernelspec": {
      "name": "python3",
      "display_name": "Python 3"
    },
    "language_info": {
      "name": "python"
    }
  },
  "cells": [
    {
      "cell_type": "markdown",
      "metadata": {
        "id": "view-in-github",
        "colab_type": "text"
      },
      "source": [
        "<a href=\"https://colab.research.google.com/github/surname0990/CEX-and-DEX-bot-arbitrage/blob/main/datafraim%2BAPI.ipynb\" target=\"_parent\"><img src=\"https://colab.research.google.com/assets/colab-badge.svg\" alt=\"Open In Colab\"/></a>"
      ]
    },
    {
      "cell_type": "code",
      "execution_count": null,
      "metadata": {
        "id": "jh12yDmMVWPD"
      },
      "outputs": [],
      "source": [
        "import requests\n",
        "import pandas as pd\n",
        "import time\n",
        "import matplotlib.pyplot as plt\n",
        "\n",
        "\n",
        "url = 'https://api.pancakeswap.info/api/v2/tokens/0x40f906e19b14100d5247686e08053c4873c66192'\n",
        "data = requests.get(url).json()\n",
        "\n",
        "plt.plot(pancake_df['Close'], label='pancake',color='red')\n",
        "plt.show()\n",
        "while True:\n",
        "  data = requests.get(url).json()\n",
        "  price = float(data['data']['price'][:6])\n",
        "  time1 = float(data[\"updated_at\"])\n",
        "  \n",
        "  pancake_df1 = pd.DataFrame({'Time':[time1], 'Close':[price],})\n",
        "  pancake_df1 = pancake_df1.set_index('Time')\n",
        "  pancake_df1 = pancake_df1.astype(float)  \n",
        "  pancake_df1.index = pd.to_datetime(pancake_df1.index, unit='ms')\n",
        "  pancake_df = pancake_df.append(pancake_df1)\n",
        "  print(pancake_df)\n",
        "time.sleep(60)\n",
        "\n"
      ]
    }
  ]
}